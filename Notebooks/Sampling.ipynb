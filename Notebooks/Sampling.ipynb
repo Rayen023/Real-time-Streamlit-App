{
 "cells": [
  {
   "cell_type": "code",
   "execution_count": 24,
   "metadata": {},
   "outputs": [],
   "source": [
    "import pandas as pd"
   ]
  },
  {
   "cell_type": "code",
   "execution_count": 25,
   "metadata": {},
   "outputs": [],
   "source": [
    "df = pd.read_csv('ts_human_activities.csv' )"
   ]
  },
  {
   "cell_type": "code",
   "execution_count": 26,
   "metadata": {},
   "outputs": [],
   "source": [
    "df['date'] = pd.to_datetime(df['timestamp'], unit='ns')\n",
    "df = df.sort_values(by=\"date\")"
   ]
  },
  {
   "cell_type": "code",
   "execution_count": 27,
   "metadata": {},
   "outputs": [],
   "source": [
    "df.set_index(\"date\", inplace=True)"
   ]
  },
  {
   "cell_type": "code",
   "execution_count": 28,
   "metadata": {},
   "outputs": [
    {
     "data": {
      "text/html": [
       "<div>\n",
       "<style scoped>\n",
       "    .dataframe tbody tr th:only-of-type {\n",
       "        vertical-align: middle;\n",
       "    }\n",
       "\n",
       "    .dataframe tbody tr th {\n",
       "        vertical-align: top;\n",
       "    }\n",
       "\n",
       "    .dataframe thead th {\n",
       "        text-align: right;\n",
       "    }\n",
       "</style>\n",
       "<table border=\"1\" class=\"dataframe\">\n",
       "  <thead>\n",
       "    <tr style=\"text-align: right;\">\n",
       "      <th></th>\n",
       "      <th>user</th>\n",
       "      <th>activity</th>\n",
       "      <th>timestamp</th>\n",
       "      <th>x-axis</th>\n",
       "      <th>y-axis</th>\n",
       "      <th>z-axis</th>\n",
       "    </tr>\n",
       "    <tr>\n",
       "      <th>date</th>\n",
       "      <th></th>\n",
       "      <th></th>\n",
       "      <th></th>\n",
       "      <th></th>\n",
       "      <th></th>\n",
       "      <th></th>\n",
       "    </tr>\n",
       "  </thead>\n",
       "  <tbody>\n",
       "    <tr>\n",
       "      <th>1970-01-01 00:01:13.452342</th>\n",
       "      <td>35</td>\n",
       "      <td>Standing</td>\n",
       "      <td>73452342000</td>\n",
       "      <td>2.03</td>\n",
       "      <td>9.47</td>\n",
       "      <td>2.91</td>\n",
       "    </tr>\n",
       "    <tr>\n",
       "      <th>1970-01-01 00:01:13.502330</th>\n",
       "      <td>35</td>\n",
       "      <td>Standing</td>\n",
       "      <td>73502330000</td>\n",
       "      <td>2.15</td>\n",
       "      <td>9.30</td>\n",
       "      <td>2.83</td>\n",
       "    </tr>\n",
       "    <tr>\n",
       "      <th>1970-01-01 00:01:13.552348</th>\n",
       "      <td>35</td>\n",
       "      <td>Standing</td>\n",
       "      <td>73552348000</td>\n",
       "      <td>2.22</td>\n",
       "      <td>9.38</td>\n",
       "      <td>2.83</td>\n",
       "    </tr>\n",
       "    <tr>\n",
       "      <th>1970-01-01 00:01:13.602336</th>\n",
       "      <td>35</td>\n",
       "      <td>Standing</td>\n",
       "      <td>73602336000</td>\n",
       "      <td>2.37</td>\n",
       "      <td>9.34</td>\n",
       "      <td>3.02</td>\n",
       "    </tr>\n",
       "    <tr>\n",
       "      <th>1970-01-01 00:01:13.652324</th>\n",
       "      <td>35</td>\n",
       "      <td>Standing</td>\n",
       "      <td>73652324000</td>\n",
       "      <td>2.30</td>\n",
       "      <td>9.28</td>\n",
       "      <td>2.83</td>\n",
       "    </tr>\n",
       "    <tr>\n",
       "      <th>...</th>\n",
       "      <td>...</td>\n",
       "      <td>...</td>\n",
       "      <td>...</td>\n",
       "      <td>...</td>\n",
       "      <td>...</td>\n",
       "      <td>...</td>\n",
       "    </tr>\n",
       "    <tr>\n",
       "      <th>1970-01-03 10:09:57.161469</th>\n",
       "      <td>7</td>\n",
       "      <td>Sitting</td>\n",
       "      <td>209397161469000</td>\n",
       "      <td>-6.74</td>\n",
       "      <td>-3.21</td>\n",
       "      <td>6.63</td>\n",
       "    </tr>\n",
       "    <tr>\n",
       "      <th>1970-01-03 10:09:57.201539</th>\n",
       "      <td>7</td>\n",
       "      <td>Sitting</td>\n",
       "      <td>209397201539000</td>\n",
       "      <td>-6.85</td>\n",
       "      <td>-3.26</td>\n",
       "      <td>6.63</td>\n",
       "    </tr>\n",
       "    <tr>\n",
       "      <th>1970-01-03 10:09:57.241517</th>\n",
       "      <td>7</td>\n",
       "      <td>Sitting</td>\n",
       "      <td>209397241517000</td>\n",
       "      <td>-6.85</td>\n",
       "      <td>-3.30</td>\n",
       "      <td>6.66</td>\n",
       "    </tr>\n",
       "    <tr>\n",
       "      <th>1970-01-03 10:09:57.321687</th>\n",
       "      <td>7</td>\n",
       "      <td>Sitting</td>\n",
       "      <td>209397321687000</td>\n",
       "      <td>-7.01</td>\n",
       "      <td>-3.17</td>\n",
       "      <td>6.36</td>\n",
       "    </tr>\n",
       "    <tr>\n",
       "      <th>1970-01-03 10:09:57.361451</th>\n",
       "      <td>7</td>\n",
       "      <td>Sitting</td>\n",
       "      <td>209397361451000</td>\n",
       "      <td>-6.85</td>\n",
       "      <td>-2.87</td>\n",
       "      <td>6.51</td>\n",
       "    </tr>\n",
       "  </tbody>\n",
       "</table>\n",
       "<p>1073623 rows × 6 columns</p>\n",
       "</div>"
      ],
      "text/plain": [
       "                            user  activity        timestamp  x-axis  y-axis  \\\n",
       "date                                                                          \n",
       "1970-01-01 00:01:13.452342    35  Standing      73452342000    2.03    9.47   \n",
       "1970-01-01 00:01:13.502330    35  Standing      73502330000    2.15    9.30   \n",
       "1970-01-01 00:01:13.552348    35  Standing      73552348000    2.22    9.38   \n",
       "1970-01-01 00:01:13.602336    35  Standing      73602336000    2.37    9.34   \n",
       "1970-01-01 00:01:13.652324    35  Standing      73652324000    2.30    9.28   \n",
       "...                          ...       ...              ...     ...     ...   \n",
       "1970-01-03 10:09:57.161469     7   Sitting  209397161469000   -6.74   -3.21   \n",
       "1970-01-03 10:09:57.201539     7   Sitting  209397201539000   -6.85   -3.26   \n",
       "1970-01-03 10:09:57.241517     7   Sitting  209397241517000   -6.85   -3.30   \n",
       "1970-01-03 10:09:57.321687     7   Sitting  209397321687000   -7.01   -3.17   \n",
       "1970-01-03 10:09:57.361451     7   Sitting  209397361451000   -6.85   -2.87   \n",
       "\n",
       "                            z-axis  \n",
       "date                                \n",
       "1970-01-01 00:01:13.452342    2.91  \n",
       "1970-01-01 00:01:13.502330    2.83  \n",
       "1970-01-01 00:01:13.552348    2.83  \n",
       "1970-01-01 00:01:13.602336    3.02  \n",
       "1970-01-01 00:01:13.652324    2.83  \n",
       "...                            ...  \n",
       "1970-01-03 10:09:57.161469    6.63  \n",
       "1970-01-03 10:09:57.201539    6.63  \n",
       "1970-01-03 10:09:57.241517    6.66  \n",
       "1970-01-03 10:09:57.321687    6.36  \n",
       "1970-01-03 10:09:57.361451    6.51  \n",
       "\n",
       "[1073623 rows x 6 columns]"
      ]
     },
     "execution_count": 28,
     "metadata": {},
     "output_type": "execute_result"
    }
   ],
   "source": [
    "df"
   ]
  },
  {
   "cell_type": "markdown",
   "metadata": {},
   "source": [
    "# Reduce frequency to seconds"
   ]
  },
  {
   "cell_type": "code",
   "execution_count": 29,
   "metadata": {},
   "outputs": [
    {
     "data": {
      "text/plain": [
       "(1073623, 6)"
      ]
     },
     "execution_count": 29,
     "metadata": {},
     "output_type": "execute_result"
    }
   ],
   "source": [
    "df.shape"
   ]
  },
  {
   "cell_type": "code",
   "execution_count": 30,
   "metadata": {},
   "outputs": [
    {
     "data": {
      "text/html": [
       "<div>\n",
       "<style scoped>\n",
       "    .dataframe tbody tr th:only-of-type {\n",
       "        vertical-align: middle;\n",
       "    }\n",
       "\n",
       "    .dataframe tbody tr th {\n",
       "        vertical-align: top;\n",
       "    }\n",
       "\n",
       "    .dataframe thead th {\n",
       "        text-align: right;\n",
       "    }\n",
       "</style>\n",
       "<table border=\"1\" class=\"dataframe\">\n",
       "  <thead>\n",
       "    <tr style=\"text-align: right;\">\n",
       "      <th></th>\n",
       "      <th>user</th>\n",
       "      <th>activity</th>\n",
       "      <th>timestamp</th>\n",
       "      <th>x-axis</th>\n",
       "      <th>y-axis</th>\n",
       "      <th>z-axis</th>\n",
       "    </tr>\n",
       "    <tr>\n",
       "      <th>date</th>\n",
       "      <th></th>\n",
       "      <th></th>\n",
       "      <th></th>\n",
       "      <th></th>\n",
       "      <th></th>\n",
       "      <th></th>\n",
       "    </tr>\n",
       "  </thead>\n",
       "  <tbody>\n",
       "    <tr>\n",
       "      <th>1970-01-01 00:01:13.000</th>\n",
       "      <td>35.0</td>\n",
       "      <td>Standing</td>\n",
       "      <td>7.345234e+10</td>\n",
       "      <td>2.03</td>\n",
       "      <td>9.47</td>\n",
       "      <td>2.91</td>\n",
       "    </tr>\n",
       "    <tr>\n",
       "      <th>1970-01-01 00:01:13.500</th>\n",
       "      <td>35.0</td>\n",
       "      <td>Standing</td>\n",
       "      <td>7.350233e+10</td>\n",
       "      <td>2.15</td>\n",
       "      <td>9.30</td>\n",
       "      <td>2.83</td>\n",
       "    </tr>\n",
       "    <tr>\n",
       "      <th>1970-01-01 00:01:14.000</th>\n",
       "      <td>35.0</td>\n",
       "      <td>Standing</td>\n",
       "      <td>7.400230e+10</td>\n",
       "      <td>2.26</td>\n",
       "      <td>9.43</td>\n",
       "      <td>2.79</td>\n",
       "    </tr>\n",
       "    <tr>\n",
       "      <th>1970-01-01 00:01:14.500</th>\n",
       "      <td>35.0</td>\n",
       "      <td>Standing</td>\n",
       "      <td>7.450236e+10</td>\n",
       "      <td>2.30</td>\n",
       "      <td>9.38</td>\n",
       "      <td>2.76</td>\n",
       "    </tr>\n",
       "    <tr>\n",
       "      <th>1970-01-01 00:01:15.000</th>\n",
       "      <td>35.0</td>\n",
       "      <td>Standing</td>\n",
       "      <td>7.510234e+10</td>\n",
       "      <td>2.34</td>\n",
       "      <td>9.38</td>\n",
       "      <td>2.83</td>\n",
       "    </tr>\n",
       "  </tbody>\n",
       "</table>\n",
       "</div>"
      ],
      "text/plain": [
       "                         user  activity     timestamp  x-axis  y-axis  z-axis\n",
       "date                                                                         \n",
       "1970-01-01 00:01:13.000  35.0  Standing  7.345234e+10    2.03    9.47    2.91\n",
       "1970-01-01 00:01:13.500  35.0  Standing  7.350233e+10    2.15    9.30    2.83\n",
       "1970-01-01 00:01:14.000  35.0  Standing  7.400230e+10    2.26    9.43    2.79\n",
       "1970-01-01 00:01:14.500  35.0  Standing  7.450236e+10    2.30    9.38    2.76\n",
       "1970-01-01 00:01:15.000  35.0  Standing  7.510234e+10    2.34    9.38    2.83"
      ]
     },
     "execution_count": 30,
     "metadata": {},
     "output_type": "execute_result"
    }
   ],
   "source": [
    "dfd = df.resample('0.5S').first()\n",
    "dfd.head()"
   ]
  },
  {
   "cell_type": "code",
   "execution_count": 31,
   "metadata": {},
   "outputs": [
    {
     "data": {
      "text/plain": [
       "user         354681\n",
       "activity     354681\n",
       "timestamp    354681\n",
       "x-axis       354681\n",
       "y-axis       354681\n",
       "z-axis       354681\n",
       "dtype: int64"
      ]
     },
     "execution_count": 31,
     "metadata": {},
     "output_type": "execute_result"
    }
   ],
   "source": [
    "dfd.isnull().sum()"
   ]
  },
  {
   "cell_type": "code",
   "execution_count": 32,
   "metadata": {},
   "outputs": [],
   "source": [
    "dfd.dropna(inplace=True)"
   ]
  },
  {
   "cell_type": "code",
   "execution_count": 33,
   "metadata": {},
   "outputs": [
    {
     "data": {
      "text/plain": [
       "(63968, 6)"
      ]
     },
     "execution_count": 33,
     "metadata": {},
     "output_type": "execute_result"
    }
   ],
   "source": [
    "dfd.shape"
   ]
  },
  {
   "cell_type": "code",
   "execution_count": 34,
   "metadata": {},
   "outputs": [
    {
     "data": {
      "text/plain": [
       "<AxesSubplot: ylabel='activity'>"
      ]
     },
     "execution_count": 34,
     "metadata": {},
     "output_type": "execute_result"
    },
    {
     "data": {
      "image/png": "[encoded data removed]",
      "text/plain": [
       "<Figure size 640x480 with 1 Axes>"
      ]
     },
     "metadata": {},
     "output_type": "display_data"
    }
   ],
   "source": [
    "dfd.activity.value_counts().plot(kind = 'pie')"
   ]
  },
  {
   "cell_type": "code",
   "execution_count": 35,
   "metadata": {},
   "outputs": [],
   "source": [
    "dfd.to_csv('ts_human_activities_with1sfreq.csv' ,index = True)"
   ]
  },
  {
   "cell_type": "markdown",
   "metadata": {},
   "source": [
    "# Processing"
   ]
  },
  {
   "cell_type": "code",
   "execution_count": 36,
   "metadata": {},
   "outputs": [],
   "source": [
    "import pandas as pd\n",
    "from datetime import datetime\n",
    "import plotly.express as px  # pip install plotly-express\n",
    "import matplotlib.pyplot as plt\n",
    "import seaborn as sns"
   ]
  },
  {
   "cell_type": "code",
   "execution_count": 37,
   "metadata": {},
   "outputs": [],
   "source": [
    "d_parser = lambda x: pd.to_datetime(x, format='%Y-%m-%d %H:%M:%S')\n",
    "df = pd.read_csv('ts_human_activities_with1sfreq.csv', parse_dates=['date'], date_parser=d_parser)\n",
    "df['user'] = df['user'].astype('int')"
   ]
  },
  {
   "cell_type": "code",
   "execution_count": 38,
   "metadata": {},
   "outputs": [
    {
     "data": {
      "text/html": [
       "<div>\n",
       "<style scoped>\n",
       "    .dataframe tbody tr th:only-of-type {\n",
       "        vertical-align: middle;\n",
       "    }\n",
       "\n",
       "    .dataframe tbody tr th {\n",
       "        vertical-align: top;\n",
       "    }\n",
       "\n",
       "    .dataframe thead th {\n",
       "        text-align: right;\n",
       "    }\n",
       "</style>\n",
       "<table border=\"1\" class=\"dataframe\">\n",
       "  <thead>\n",
       "    <tr style=\"text-align: right;\">\n",
       "      <th></th>\n",
       "      <th>date</th>\n",
       "      <th>user</th>\n",
       "      <th>activity</th>\n",
       "      <th>timestamp</th>\n",
       "      <th>x-axis</th>\n",
       "      <th>y-axis</th>\n",
       "      <th>z-axis</th>\n",
       "    </tr>\n",
       "  </thead>\n",
       "  <tbody>\n",
       "    <tr>\n",
       "      <th>0</th>\n",
       "      <td>1970-01-01 00:01:13.000</td>\n",
       "      <td>35</td>\n",
       "      <td>Standing</td>\n",
       "      <td>7.345234e+10</td>\n",
       "      <td>2.03</td>\n",
       "      <td>9.47</td>\n",
       "      <td>2.91</td>\n",
       "    </tr>\n",
       "    <tr>\n",
       "      <th>1</th>\n",
       "      <td>1970-01-01 00:01:13.500</td>\n",
       "      <td>35</td>\n",
       "      <td>Standing</td>\n",
       "      <td>7.350233e+10</td>\n",
       "      <td>2.15</td>\n",
       "      <td>9.30</td>\n",
       "      <td>2.83</td>\n",
       "    </tr>\n",
       "    <tr>\n",
       "      <th>2</th>\n",
       "      <td>1970-01-01 00:01:14.000</td>\n",
       "      <td>35</td>\n",
       "      <td>Standing</td>\n",
       "      <td>7.400230e+10</td>\n",
       "      <td>2.26</td>\n",
       "      <td>9.43</td>\n",
       "      <td>2.79</td>\n",
       "    </tr>\n",
       "    <tr>\n",
       "      <th>3</th>\n",
       "      <td>1970-01-01 00:01:14.500</td>\n",
       "      <td>35</td>\n",
       "      <td>Standing</td>\n",
       "      <td>7.450236e+10</td>\n",
       "      <td>2.30</td>\n",
       "      <td>9.38</td>\n",
       "      <td>2.76</td>\n",
       "    </tr>\n",
       "    <tr>\n",
       "      <th>4</th>\n",
       "      <td>1970-01-01 00:01:15.000</td>\n",
       "      <td>35</td>\n",
       "      <td>Standing</td>\n",
       "      <td>7.510234e+10</td>\n",
       "      <td>2.34</td>\n",
       "      <td>9.38</td>\n",
       "      <td>2.83</td>\n",
       "    </tr>\n",
       "  </tbody>\n",
       "</table>\n",
       "</div>"
      ],
      "text/plain": [
       "                     date  user  activity     timestamp  x-axis  y-axis  \\\n",
       "0 1970-01-01 00:01:13.000    35  Standing  7.345234e+10    2.03    9.47   \n",
       "1 1970-01-01 00:01:13.500    35  Standing  7.350233e+10    2.15    9.30   \n",
       "2 1970-01-01 00:01:14.000    35  Standing  7.400230e+10    2.26    9.43   \n",
       "3 1970-01-01 00:01:14.500    35  Standing  7.450236e+10    2.30    9.38   \n",
       "4 1970-01-01 00:01:15.000    35  Standing  7.510234e+10    2.34    9.38   \n",
       "\n",
       "   z-axis  \n",
       "0    2.91  \n",
       "1    2.83  \n",
       "2    2.79  \n",
       "3    2.76  \n",
       "4    2.83  "
      ]
     },
     "execution_count": 38,
     "metadata": {},
     "output_type": "execute_result"
    }
   ],
   "source": [
    "df.head()"
   ]
  },
  {
   "cell_type": "code",
   "execution_count": 39,
   "metadata": {},
   "outputs": [
    {
     "data": {
      "text/plain": [
       "(['Walking', 'Jogging', 'Upstairs', 'Downstairs', 'Sitting', 'Standing'],\n",
       " [22555, 20150, 7909, 6505, 3718, 3131])"
      ]
     },
     "execution_count": 39,
     "metadata": {},
     "output_type": "execute_result"
    }
   ],
   "source": [
    "list(df.activity.value_counts().index) ,list(df.activity.value_counts().values)"
   ]
  },
  {
   "cell_type": "markdown",
   "metadata": {},
   "source": [
    "# Sampling "
   ]
  },
  {
   "cell_type": "code",
   "execution_count": 40,
   "metadata": {},
   "outputs": [
    {
     "data": {
      "text/plain": [
       "(63968, 7)"
      ]
     },
     "execution_count": 40,
     "metadata": {},
     "output_type": "execute_result"
    }
   ],
   "source": [
    "import pandas as pd\n",
    "from tqdm import tqdm\n",
    "\n",
    "df.shape"
   ]
  },
  {
   "cell_type": "code",
   "execution_count": 41,
   "metadata": {},
   "outputs": [
    {
     "data": {
      "text/html": [
       "<div>\n",
       "<style scoped>\n",
       "    .dataframe tbody tr th:only-of-type {\n",
       "        vertical-align: middle;\n",
       "    }\n",
       "\n",
       "    .dataframe tbody tr th {\n",
       "        vertical-align: top;\n",
       "    }\n",
       "\n",
       "    .dataframe thead th {\n",
       "        text-align: right;\n",
       "    }\n",
       "</style>\n",
       "<table border=\"1\" class=\"dataframe\">\n",
       "  <thead>\n",
       "    <tr style=\"text-align: right;\">\n",
       "      <th></th>\n",
       "      <th>date</th>\n",
       "      <th>user</th>\n",
       "      <th>activity</th>\n",
       "      <th>timestamp</th>\n",
       "      <th>x-axis</th>\n",
       "      <th>y-axis</th>\n",
       "      <th>z-axis</th>\n",
       "    </tr>\n",
       "  </thead>\n",
       "  <tbody>\n",
       "    <tr>\n",
       "      <th>0</th>\n",
       "      <td>1970-01-01 00:01:13.000</td>\n",
       "      <td>35</td>\n",
       "      <td>Standing</td>\n",
       "      <td>7.345234e+10</td>\n",
       "      <td>2.03</td>\n",
       "      <td>9.47</td>\n",
       "      <td>2.91</td>\n",
       "    </tr>\n",
       "    <tr>\n",
       "      <th>1</th>\n",
       "      <td>1970-01-01 00:01:13.500</td>\n",
       "      <td>35</td>\n",
       "      <td>Standing</td>\n",
       "      <td>7.350233e+10</td>\n",
       "      <td>2.15</td>\n",
       "      <td>9.30</td>\n",
       "      <td>2.83</td>\n",
       "    </tr>\n",
       "    <tr>\n",
       "      <th>2</th>\n",
       "      <td>1970-01-01 00:01:14.000</td>\n",
       "      <td>35</td>\n",
       "      <td>Standing</td>\n",
       "      <td>7.400230e+10</td>\n",
       "      <td>2.26</td>\n",
       "      <td>9.43</td>\n",
       "      <td>2.79</td>\n",
       "    </tr>\n",
       "    <tr>\n",
       "      <th>3</th>\n",
       "      <td>1970-01-01 00:01:14.500</td>\n",
       "      <td>35</td>\n",
       "      <td>Standing</td>\n",
       "      <td>7.450236e+10</td>\n",
       "      <td>2.30</td>\n",
       "      <td>9.38</td>\n",
       "      <td>2.76</td>\n",
       "    </tr>\n",
       "    <tr>\n",
       "      <th>4</th>\n",
       "      <td>1970-01-01 00:01:15.000</td>\n",
       "      <td>35</td>\n",
       "      <td>Standing</td>\n",
       "      <td>7.510234e+10</td>\n",
       "      <td>2.34</td>\n",
       "      <td>9.38</td>\n",
       "      <td>2.83</td>\n",
       "    </tr>\n",
       "  </tbody>\n",
       "</table>\n",
       "</div>"
      ],
      "text/plain": [
       "                     date  user  activity     timestamp  x-axis  y-axis  \\\n",
       "0 1970-01-01 00:01:13.000    35  Standing  7.345234e+10    2.03    9.47   \n",
       "1 1970-01-01 00:01:13.500    35  Standing  7.350233e+10    2.15    9.30   \n",
       "2 1970-01-01 00:01:14.000    35  Standing  7.400230e+10    2.26    9.43   \n",
       "3 1970-01-01 00:01:14.500    35  Standing  7.450236e+10    2.30    9.38   \n",
       "4 1970-01-01 00:01:15.000    35  Standing  7.510234e+10    2.34    9.38   \n",
       "\n",
       "   z-axis  \n",
       "0    2.91  \n",
       "1    2.83  \n",
       "2    2.79  \n",
       "3    2.76  \n",
       "4    2.83  "
      ]
     },
     "execution_count": 41,
     "metadata": {},
     "output_type": "execute_result"
    }
   ],
   "source": [
    "df.head()"
   ]
  },
  {
   "cell_type": "code",
   "execution_count": 42,
   "metadata": {},
   "outputs": [
    {
     "data": {
      "text/html": [
       "<div>\n",
       "<style scoped>\n",
       "    .dataframe tbody tr th:only-of-type {\n",
       "        vertical-align: middle;\n",
       "    }\n",
       "\n",
       "    .dataframe tbody tr th {\n",
       "        vertical-align: top;\n",
       "    }\n",
       "\n",
       "    .dataframe thead th {\n",
       "        text-align: right;\n",
       "    }\n",
       "</style>\n",
       "<table border=\"1\" class=\"dataframe\">\n",
       "  <thead>\n",
       "    <tr style=\"text-align: right;\">\n",
       "      <th></th>\n",
       "      <th>date</th>\n",
       "      <th>user</th>\n",
       "      <th>activity</th>\n",
       "      <th>timestamp</th>\n",
       "      <th>x-axis</th>\n",
       "      <th>y-axis</th>\n",
       "      <th>z-axis</th>\n",
       "    </tr>\n",
       "  </thead>\n",
       "  <tbody>\n",
       "    <tr>\n",
       "      <th>0</th>\n",
       "      <td>1970-01-01 00:01:13</td>\n",
       "      <td>35</td>\n",
       "      <td>Standing</td>\n",
       "      <td>7.345234e+10</td>\n",
       "      <td>2.03</td>\n",
       "      <td>9.47</td>\n",
       "      <td>2.91</td>\n",
       "    </tr>\n",
       "  </tbody>\n",
       "</table>\n",
       "</div>"
      ],
      "text/plain": [
       "                 date  user  activity     timestamp  x-axis  y-axis  z-axis\n",
       "0 1970-01-01 00:01:13    35  Standing  7.345234e+10    2.03    9.47    2.91"
      ]
     },
     "execution_count": 42,
     "metadata": {},
     "output_type": "execute_result"
    }
   ],
   "source": [
    "df.iloc[[0]]"
   ]
  },
  {
   "cell_type": "code",
   "execution_count": 43,
   "metadata": {},
   "outputs": [
    {
     "data": {
      "text/plain": [
       "date         1970-01-01 00:01:13\n",
       "user                          35\n",
       "activity                Standing\n",
       "timestamp          73452342000.0\n",
       "x-axis                      2.03\n",
       "y-axis                      9.47\n",
       "z-axis                      2.91\n",
       "Name: 0, dtype: object"
      ]
     },
     "execution_count": 43,
     "metadata": {},
     "output_type": "execute_result"
    }
   ],
   "source": [
    "df.iloc[0,:]"
   ]
  },
  {
   "cell_type": "code",
   "execution_count": 44,
   "metadata": {},
   "outputs": [
    {
     "name": "stderr",
     "output_type": "stream",
     "text": [
      "while loop: 100%|██████████| 63967/63967 [02:53<00:00, 368.00it/s] \n"
     ]
    },
    {
     "name": "stdout",
     "output_type": "stream",
     "text": [
      "(40540, 7)\n"
     ]
    }
   ],
   "source": [
    "pbar = tqdm(desc= 'while loop', total =df.shape[0] - 1)\n",
    "i = 0\n",
    "count = 0\n",
    "samples = 20\n",
    "df_sampled = pd.DataFrame()\n",
    "chunk = pd.DataFrame()\n",
    "while i < (df.shape[0] - 1):\n",
    "    # same activity and user check\n",
    "    while (i < (df.shape[0] - 2)) & (count < samples) & (df.iloc[i ,2] == df.iloc[i+1 ,2]) & (df.iloc[i ,1] == df.iloc[i+1 ,1]):\n",
    "            count+=1\n",
    "            chunk = pd.concat([chunk , df.iloc[[i]]])\n",
    "            i+=1\n",
    "    i+=1\n",
    "    pbar.update(count + 1)\n",
    "    count = 0\n",
    "    if chunk.shape[0] == samples :\n",
    "        df_sampled = pd.concat([df_sampled , chunk])\n",
    "    chunk = pd.DataFrame()\n",
    "print(df_sampled.shape)\n"
   ]
  },
  {
   "cell_type": "code",
   "execution_count": 45,
   "metadata": {},
   "outputs": [],
   "source": [
    "df_sampled.to_csv('train.csv')"
   ]
  },
  {
   "cell_type": "code",
   "execution_count": 46,
   "metadata": {},
   "outputs": [
    {
     "data": {
      "text/html": [
       "<div>\n",
       "<style scoped>\n",
       "    .dataframe tbody tr th:only-of-type {\n",
       "        vertical-align: middle;\n",
       "    }\n",
       "\n",
       "    .dataframe tbody tr th {\n",
       "        vertical-align: top;\n",
       "    }\n",
       "\n",
       "    .dataframe thead th {\n",
       "        text-align: right;\n",
       "    }\n",
       "</style>\n",
       "<table border=\"1\" class=\"dataframe\">\n",
       "  <thead>\n",
       "    <tr style=\"text-align: right;\">\n",
       "      <th></th>\n",
       "      <th>date</th>\n",
       "      <th>user</th>\n",
       "      <th>activity</th>\n",
       "      <th>timestamp</th>\n",
       "      <th>x-axis</th>\n",
       "      <th>y-axis</th>\n",
       "      <th>z-axis</th>\n",
       "    </tr>\n",
       "  </thead>\n",
       "  <tbody>\n",
       "    <tr>\n",
       "      <th>0</th>\n",
       "      <td>1970-01-01 00:01:13.000</td>\n",
       "      <td>35</td>\n",
       "      <td>Standing</td>\n",
       "      <td>7.345234e+10</td>\n",
       "      <td>2.03</td>\n",
       "      <td>9.47</td>\n",
       "      <td>2.91</td>\n",
       "    </tr>\n",
       "    <tr>\n",
       "      <th>21</th>\n",
       "      <td>1970-01-01 00:01:23.500</td>\n",
       "      <td>35</td>\n",
       "      <td>Standing</td>\n",
       "      <td>8.351231e+10</td>\n",
       "      <td>2.79</td>\n",
       "      <td>9.23</td>\n",
       "      <td>2.96</td>\n",
       "    </tr>\n",
       "    <tr>\n",
       "      <th>42</th>\n",
       "      <td>1970-01-01 00:01:34.000</td>\n",
       "      <td>35</td>\n",
       "      <td>Standing</td>\n",
       "      <td>9.401234e+10</td>\n",
       "      <td>2.64</td>\n",
       "      <td>9.28</td>\n",
       "      <td>3.15</td>\n",
       "    </tr>\n",
       "    <tr>\n",
       "      <th>63</th>\n",
       "      <td>1970-01-01 00:01:44.500</td>\n",
       "      <td>35</td>\n",
       "      <td>Standing</td>\n",
       "      <td>1.045123e+11</td>\n",
       "      <td>2.49</td>\n",
       "      <td>9.34</td>\n",
       "      <td>2.83</td>\n",
       "    </tr>\n",
       "    <tr>\n",
       "      <th>84</th>\n",
       "      <td>1970-01-01 00:01:55.000</td>\n",
       "      <td>35</td>\n",
       "      <td>Standing</td>\n",
       "      <td>1.150423e+11</td>\n",
       "      <td>2.45</td>\n",
       "      <td>9.43</td>\n",
       "      <td>2.87</td>\n",
       "    </tr>\n",
       "    <tr>\n",
       "      <th>...</th>\n",
       "      <td>...</td>\n",
       "      <td>...</td>\n",
       "      <td>...</td>\n",
       "      <td>...</td>\n",
       "      <td>...</td>\n",
       "      <td>...</td>\n",
       "      <td>...</td>\n",
       "    </tr>\n",
       "    <tr>\n",
       "      <th>63862</th>\n",
       "      <td>1970-01-03 10:09:04.500</td>\n",
       "      <td>7</td>\n",
       "      <td>Sitting</td>\n",
       "      <td>2.093445e+14</td>\n",
       "      <td>-6.59</td>\n",
       "      <td>-3.30</td>\n",
       "      <td>6.74</td>\n",
       "    </tr>\n",
       "    <tr>\n",
       "      <th>63883</th>\n",
       "      <td>1970-01-03 10:09:15.000</td>\n",
       "      <td>7</td>\n",
       "      <td>Sitting</td>\n",
       "      <td>2.093550e+14</td>\n",
       "      <td>-6.47</td>\n",
       "      <td>-3.36</td>\n",
       "      <td>6.89</td>\n",
       "    </tr>\n",
       "    <tr>\n",
       "      <th>63904</th>\n",
       "      <td>1970-01-03 10:09:25.500</td>\n",
       "      <td>7</td>\n",
       "      <td>Sitting</td>\n",
       "      <td>2.093655e+14</td>\n",
       "      <td>-6.70</td>\n",
       "      <td>-3.30</td>\n",
       "      <td>6.66</td>\n",
       "    </tr>\n",
       "    <tr>\n",
       "      <th>63925</th>\n",
       "      <td>1970-01-03 10:09:36.000</td>\n",
       "      <td>7</td>\n",
       "      <td>Sitting</td>\n",
       "      <td>2.093761e+14</td>\n",
       "      <td>-6.74</td>\n",
       "      <td>-3.15</td>\n",
       "      <td>6.70</td>\n",
       "    </tr>\n",
       "    <tr>\n",
       "      <th>63946</th>\n",
       "      <td>1970-01-03 10:09:46.500</td>\n",
       "      <td>7</td>\n",
       "      <td>Sitting</td>\n",
       "      <td>2.093866e+14</td>\n",
       "      <td>-6.70</td>\n",
       "      <td>-3.30</td>\n",
       "      <td>6.70</td>\n",
       "    </tr>\n",
       "  </tbody>\n",
       "</table>\n",
       "<p>2027 rows × 7 columns</p>\n",
       "</div>"
      ],
      "text/plain": [
       "                         date  user  activity     timestamp  x-axis  y-axis  \\\n",
       "0     1970-01-01 00:01:13.000    35  Standing  7.345234e+10    2.03    9.47   \n",
       "21    1970-01-01 00:01:23.500    35  Standing  8.351231e+10    2.79    9.23   \n",
       "42    1970-01-01 00:01:34.000    35  Standing  9.401234e+10    2.64    9.28   \n",
       "63    1970-01-01 00:01:44.500    35  Standing  1.045123e+11    2.49    9.34   \n",
       "84    1970-01-01 00:01:55.000    35  Standing  1.150423e+11    2.45    9.43   \n",
       "...                       ...   ...       ...           ...     ...     ...   \n",
       "63862 1970-01-03 10:09:04.500     7   Sitting  2.093445e+14   -6.59   -3.30   \n",
       "63883 1970-01-03 10:09:15.000     7   Sitting  2.093550e+14   -6.47   -3.36   \n",
       "63904 1970-01-03 10:09:25.500     7   Sitting  2.093655e+14   -6.70   -3.30   \n",
       "63925 1970-01-03 10:09:36.000     7   Sitting  2.093761e+14   -6.74   -3.15   \n",
       "63946 1970-01-03 10:09:46.500     7   Sitting  2.093866e+14   -6.70   -3.30   \n",
       "\n",
       "       z-axis  \n",
       "0        2.91  \n",
       "21       2.96  \n",
       "42       3.15  \n",
       "63       2.83  \n",
       "84       2.87  \n",
       "...       ...  \n",
       "63862    6.74  \n",
       "63883    6.89  \n",
       "63904    6.66  \n",
       "63925    6.70  \n",
       "63946    6.70  \n",
       "\n",
       "[2027 rows x 7 columns]"
      ]
     },
     "execution_count": 46,
     "metadata": {},
     "output_type": "execute_result"
    }
   ],
   "source": [
    "df_sampled[::samples]"
   ]
  },
  {
   "cell_type": "code",
   "execution_count": null,
   "metadata": {},
   "outputs": [],
   "source": []
  }
 ],
 "metadata": {
  "kernelspec": {
   "display_name": "Python 3.10.8 ('AppRt')",
   "language": "python",
   "name": "python3"
  },
  "language_info": {
   "codemirror_mode": {
    "name": "ipython",
    "version": 3
   },
   "file_extension": ".py",
   "mimetype": "text/x-python",
   "name": "python",
   "nbconvert_exporter": "python",
   "pygments_lexer": "ipython3",
   "version": "3.10.8"
  },
  "orig_nbformat": 4,
  "vscode": {
   "interpreter": {
    "hash": "efe6bf2255052e7630c3a18321379f499a9acda5aaa494127a74bf79103cc384"
   }
  }
 },
 "nbformat": 4,
 "nbformat_minor": 2
}
